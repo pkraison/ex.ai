{
  "nbformat": 4,
  "nbformat_minor": 0,
  "metadata": {
    "colab": {
      "name": "Weight_Initialization.ipynb",
      "version": "0.3.2",
      "provenance": [],
      "include_colab_link": true
    },
    "kernelspec": {
      "name": "python3",
      "display_name": "Python 3"
    }
  },
  "cells": [
    {
      "cell_type": "markdown",
      "metadata": {
        "id": "view-in-github",
        "colab_type": "text"
      },
      "source": [
        "[View in Colaboratory](https://colab.research.google.com/github/pkraison/ex.ai/blob/master/Weight_Initialization.ipynb)"
      ]
    },
    {
      "metadata": {
        "id": "WILul7sonVSs",
        "colab_type": "text"
      },
      "cell_type": "markdown",
      "source": [
        "#  Training your neural network requires specifying an initial value of the weights. A well chosen initialization method will help learning. \n",
        "- how do you choose the initialization for a new neural network? In this notebook, you will see     how different initializations lead to different results. \n",
        "-A well chosen initialization can:\n",
        "- Speed up the convergence of gradient descent\n",
        "- Increase the odds of gradient descent converging to a lower training (and generalization) error \n"
      ]
    },
    {
      "metadata": {
        "id": "jcs_VONSmq7e",
        "colab_type": "code",
        "colab": {}
      },
      "cell_type": "code",
      "source": [
        "import numpy as np\n",
        "import matplotlib.pyplot as plt\n",
        "import h5py\n",
        "import sklearn\n",
        "import sklearn.datasets"
      ],
      "execution_count": 0,
      "outputs": []
    },
    {
      "metadata": {
        "id": "0_kTGzQan5tf",
        "colab_type": "code",
        "colab": {}
      },
      "cell_type": "code",
      "source": [
        "def sigmoid(x):\n",
        "    \"\"\"\n",
        "    Compute the sigmoid of x\n",
        "\n",
        "    Arguments:\n",
        "    x -- A scalar or numpy array of any size.\n",
        "\n",
        "    Return:\n",
        "    s -- sigmoid(x)\n",
        "    \"\"\"\n",
        "    s = 1/(1+np.exp(-x))\n",
        "    return s\n",
        "\n",
        "def relu(x):\n",
        "    \"\"\"\n",
        "    Compute the relu of x\n",
        "\n",
        "    Arguments:\n",
        "    x -- A scalar or numpy array of any size.\n",
        "\n",
        "    Return:\n",
        "    s -- relu(x)\n",
        "    \"\"\"\n",
        "    s = np.maximum(0,x)\n",
        "    \n",
        "    return s\n",
        "\n",
        "def forward_propagation(X, parameters):\n",
        "    \"\"\"\n",
        "    Implements the forward propagation (and computes the loss) presented in Figure 2.\n",
        "    \n",
        "    Arguments:\n",
        "    X -- input dataset, of shape (input size, number of examples)\n",
        "    Y -- true \"label\" vector (containing 0 if cat, 1 if non-cat)\n",
        "    parameters -- python dictionary containing your parameters \"W1\", \"b1\", \"W2\", \"b2\", \"W3\", \"b3\":\n",
        "                    W1 -- weight matrix of shape ()\n",
        "                    b1 -- bias vector of shape ()\n",
        "                    W2 -- weight matrix of shape ()\n",
        "                    b2 -- bias vector of shape ()\n",
        "                    W3 -- weight matrix of shape ()\n",
        "                    b3 -- bias vector of shape ()\n",
        "    \n",
        "    Returns:\n",
        "    loss -- the loss function (vanilla logistic loss)\n",
        "    \"\"\"\n",
        "        \n",
        "    # retrieve parameters\n",
        "    W1 = parameters[\"W1\"]\n",
        "    b1 = parameters[\"b1\"]\n",
        "    W2 = parameters[\"W2\"]\n",
        "    b2 = parameters[\"b2\"]\n",
        "    W3 = parameters[\"W3\"]\n",
        "    b3 = parameters[\"b3\"]\n",
        "    \n",
        "    # LINEAR -> RELU -> LINEAR -> RELU -> LINEAR -> SIGMOID\n",
        "    z1 = np.dot(W1, X) + b1\n",
        "    a1 = relu(z1)\n",
        "    z2 = np.dot(W2, a1) + b2\n",
        "    a2 = relu(z2)\n",
        "    z3 = np.dot(W3, a2) + b3\n",
        "    a3 = sigmoid(z3)\n",
        "    \n",
        "    cache = (z1, a1, W1, b1, z2, a2, W2, b2, z3, a3, W3, b3)\n",
        "    \n",
        "    return a3, cache\n",
        "\n",
        "def backward_propagation(X, Y, cache):\n",
        "    \"\"\"\n",
        "    Implement the backward propagation presented in figure 2.\n",
        "    \n",
        "    Arguments:\n",
        "    X -- input dataset, of shape (input size, number of examples)\n",
        "    Y -- true \"label\" vector (containing 0 if cat, 1 if non-cat)\n",
        "    cache -- cache output from forward_propagation()\n",
        "    \n",
        "    Returns:\n",
        "    gradients -- A dictionary with the gradients with respect to each parameter, activation and pre-activation variables\n",
        "    \"\"\"\n",
        "    m = X.shape[1]\n",
        "    (z1, a1, W1, b1, z2, a2, W2, b2, z3, a3, W3, b3) = cache\n",
        "    \n",
        "    dz3 = 1./m * (a3 - Y)\n",
        "    dW3 = np.dot(dz3, a2.T)\n",
        "    db3 = np.sum(dz3, axis=1, keepdims = True)\n",
        "    \n",
        "    da2 = np.dot(W3.T, dz3)\n",
        "    dz2 = np.multiply(da2, np.int64(a2 > 0))\n",
        "    dW2 = np.dot(dz2, a1.T)\n",
        "    db2 = np.sum(dz2, axis=1, keepdims = True)\n",
        "    \n",
        "    da1 = np.dot(W2.T, dz2)\n",
        "    dz1 = np.multiply(da1, np.int64(a1 > 0))\n",
        "    dW1 = np.dot(dz1, X.T)\n",
        "    db1 = np.sum(dz1, axis=1, keepdims = True)\n",
        "    \n",
        "    gradients = {\"dz3\": dz3, \"dW3\": dW3, \"db3\": db3,\n",
        "                 \"da2\": da2, \"dz2\": dz2, \"dW2\": dW2, \"db2\": db2,\n",
        "                 \"da1\": da1, \"dz1\": dz1, \"dW1\": dW1, \"db1\": db1}\n",
        "    \n",
        "    return gradients\n",
        "\n",
        "def update_parameters(parameters, grads, learning_rate):\n",
        "    \"\"\"\n",
        "    Update parameters using gradient descent\n",
        "    \n",
        "    Arguments:\n",
        "    parameters -- python dictionary containing your parameters \n",
        "    grads -- python dictionary containing your gradients, output of n_model_backward\n",
        "    \n",
        "    Returns:\n",
        "    parameters -- python dictionary containing your updated parameters \n",
        "                  parameters['W' + str(i)] = ... \n",
        "                  parameters['b' + str(i)] = ...\n",
        "    \"\"\"\n",
        "    \n",
        "    L = len(parameters) // 2 # number of layers in the neural networks\n",
        "\n",
        "    # Update rule for each parameter\n",
        "    for k in range(L):\n",
        "        parameters[\"W\" + str(k+1)] = parameters[\"W\" + str(k+1)] - learning_rate * grads[\"dW\" + str(k+1)]\n",
        "        parameters[\"b\" + str(k+1)] = parameters[\"b\" + str(k+1)] - learning_rate * grads[\"db\" + str(k+1)]\n",
        "        \n",
        "    return parameters"
      ],
      "execution_count": 0,
      "outputs": []
    },
    {
      "metadata": {
        "id": "fBLy_eTlrzF6",
        "colab_type": "code",
        "colab": {}
      },
      "cell_type": "code",
      "source": [
        "\n",
        "def compute_loss(a3, Y):\n",
        "    \n",
        "    \"\"\"\n",
        "    Implement the loss function\n",
        "    \n",
        "    Arguments:\n",
        "    a3 -- post-activation, output of forward propagation\n",
        "    Y -- \"true\" labels vector, same shape as a3\n",
        "    \n",
        "    Returns:\n",
        "    loss - value of the loss function\n",
        "    \"\"\"\n",
        "    \n",
        "    m = Y.shape[1]\n",
        "    logprobs = np.multiply(-np.log(a3),Y) + np.multiply(-np.log(1 - a3), 1 - Y)\n",
        "    loss = 1./m * np.nansum(logprobs)\n",
        "    \n",
        "    return loss"
      ],
      "execution_count": 0,
      "outputs": []
    },
    {
      "metadata": {
        "id": "wGwim-I7rqKk",
        "colab_type": "code",
        "colab": {}
      },
      "cell_type": "code",
      "source": [
        "def load_cat_dataset():\n",
        "    train_dataset = h5py.File('datasets/train_catvnoncat.h5', \"r\")\n",
        "    train_set_x_orig = np.array(train_dataset[\"train_set_x\"][:]) # your train set features\n",
        "    train_set_y_orig = np.array(train_dataset[\"train_set_y\"][:]) # your train set labels\n",
        "\n",
        "    test_dataset = h5py.File('datasets/test_catvnoncat.h5', \"r\")\n",
        "    test_set_x_orig = np.array(test_dataset[\"test_set_x\"][:]) # your test set features\n",
        "    test_set_y_orig = np.array(test_dataset[\"test_set_y\"][:]) # your test set labels\n",
        "\n",
        "    classes = np.array(test_dataset[\"list_classes\"][:]) # the list of classes\n",
        "    \n",
        "    train_set_y = train_set_y_orig.reshape((1, train_set_y_orig.shape[0]))\n",
        "    test_set_y = test_set_y_orig.reshape((1, test_set_y_orig.shape[0]))\n",
        "    \n",
        "    train_set_x_orig = train_set_x_orig.reshape(train_set_x_orig.shape[0], -1).T\n",
        "    test_set_x_orig = test_set_x_orig.reshape(test_set_x_orig.shape[0], -1).T\n",
        "    \n",
        "    train_set_x = train_set_x_orig/255\n",
        "    test_set_x = test_set_x_orig/255\n",
        "\n",
        "    return train_set_x, train_set_y, test_set_x, test_set_y, classes"
      ],
      "execution_count": 0,
      "outputs": []
    },
    {
      "metadata": {
        "id": "ZuVhCelArkQn",
        "colab_type": "code",
        "colab": {}
      },
      "cell_type": "code",
      "source": [
        "def predict(X, y, parameters):\n",
        "    \"\"\"\n",
        "    This function is used to predict the results of a  n-layer neural network.\n",
        "    \n",
        "    Arguments:\n",
        "    X -- data set of examples you would like to label\n",
        "    parameters -- parameters of the trained model\n",
        "    \n",
        "    Returns:\n",
        "    p -- predictions for the given dataset X\n",
        "    \"\"\"\n",
        "    \n",
        "    m = X.shape[1]\n",
        "    p = np.zeros((1,m), dtype = np.int)\n",
        "    \n",
        "    # Forward propagation\n",
        "    a3, caches = forward_propagation(X, parameters)\n",
        "    \n",
        "    # convert probas to 0/1 predictions\n",
        "    for i in range(0, a3.shape[1]):\n",
        "        if a3[0,i] > 0.5:\n",
        "            p[0,i] = 1\n",
        "        else:\n",
        "            p[0,i] = 0\n",
        "\n",
        "    # print results\n",
        "    print(\"Accuracy: \"  + str(np.mean((p[0,:] == y[0,:]))))\n",
        "    \n",
        "    return p"
      ],
      "execution_count": 0,
      "outputs": []
    },
    {
      "metadata": {
        "id": "aMw8OIlordv_",
        "colab_type": "code",
        "colab": {}
      },
      "cell_type": "code",
      "source": [
        "def plot_decision_boundary(model, X, y):\n",
        "    # Set min and max values and give it some padding\n",
        "    x_min, x_max = X[0, :].min() - 1, X[0, :].max() + 1\n",
        "    y_min, y_max = X[1, :].min() - 1, X[1, :].max() + 1\n",
        "    h = 0.01\n",
        "    # Generate a grid of points with distance h between them\n",
        "    xx, yy = np.meshgrid(np.arange(x_min, x_max, h), np.arange(y_min, y_max, h))\n",
        "    # Predict the function value for the whole grid\n",
        "    Z = model(np.c_[xx.ravel(), yy.ravel()])\n",
        "    Z = Z.reshape(xx.shape)\n",
        "    # Plot the contour and training examples\n",
        "    plt.contourf(xx, yy, Z, cmap=plt.cm.Spectral)\n",
        "    plt.ylabel('x2')\n",
        "    plt.xlabel('x1')\n",
        "    plt.scatter(X[0, :], X[1, :], c=y, cmap=plt.cm.Spectral)\n",
        "    plt.show()"
      ],
      "execution_count": 0,
      "outputs": []
    },
    {
      "metadata": {
        "id": "ZEzYckrHrY6N",
        "colab_type": "code",
        "colab": {}
      },
      "cell_type": "code",
      "source": [
        "def predict_dec(parameters, X):\n",
        "    \"\"\"\n",
        "    Used for plotting decision boundary.\n",
        "    \n",
        "    Arguments:\n",
        "    parameters -- python dictionary containing your parameters \n",
        "    X -- input data of size (m, K)\n",
        "    \n",
        "    Returns\n",
        "    predictions -- vector of predictions of our model (red: 0 / blue: 1)\n",
        "    \"\"\"\n",
        "    \n",
        "    # Predict using forward propagation and a classification threshold of 0.5\n",
        "    a3, cache = forward_propagation(X, parameters)\n",
        "    predictions = (a3>0.5)\n",
        "    return predictions\n"
      ],
      "execution_count": 0,
      "outputs": []
    },
    {
      "metadata": {
        "id": "6Lm7KTxTrVly",
        "colab_type": "code",
        "colab": {}
      },
      "cell_type": "code",
      "source": [
        "def load_dataset():\n",
        "    np.random.seed(1)\n",
        "    train_X, train_Y = sklearn.datasets.make_circles(n_samples=300, noise=.05)\n",
        "    np.random.seed(2)\n",
        "    test_X, test_Y = sklearn.datasets.make_circles(n_samples=100, noise=.05)\n",
        "    # Visualize the data\n",
        "    plt.scatter(train_X[:, 0], train_X[:, 1], c=train_Y, s=40, cmap=plt.cm.Spectral);\n",
        "    train_X = train_X.T\n",
        "    train_Y = train_Y.reshape((1, train_Y.shape[0]))\n",
        "    test_X = test_X.T\n",
        "    test_Y = test_Y.reshape((1, test_Y.shape[0]))\n",
        "    return train_X, train_Y, test_X, test_Y"
      ],
      "execution_count": 0,
      "outputs": []
    },
    {
      "metadata": {
        "id": "makYLzjvoKEc",
        "colab_type": "code",
        "colab": {}
      },
      "cell_type": "code",
      "source": [
        "get_ipython().magic('matplotlib inline')\n",
        "plt.rcParams['figure.figsize'] = (7.0, 4.0) # set default size of plots\n",
        "plt.rcParams['image.interpolation'] = 'nearest'\n",
        "plt.rcParams['image.cmap'] = 'gray'\n"
      ],
      "execution_count": 0,
      "outputs": []
    },
    {
      "metadata": {
        "id": "bizwc-5YoXDj",
        "colab_type": "code",
        "colab": {
          "base_uri": "https://localhost:8080/",
          "height": 265
        },
        "outputId": "e41dbdec-1eac-4621-d437-d053898f7e11"
      },
      "cell_type": "code",
      "source": [
        "train_X, train_Y, test_X, test_Y = load_dataset()"
      ],
      "execution_count": 16,
      "outputs": [
        {
          "output_type": "display_data",
          "data": {
            "image/png": "[encoded data removed]",
            "text/plain": [
              "<matplotlib.figure.Figure at 0x7f680f40cf98>"
            ]
          },
          "metadata": {
            "tags": []
          }
        }
      ]
    },
    {
      "metadata": {
        "id": "l50a2DWKoduB",
        "colab_type": "code",
        "colab": {}
      },
      "cell_type": "code",
      "source": [
        "def model(X, Y, learning_rate = 0.01, num_iterations = 30000, print_cost = True, initialization = \"he\"):\n",
        "    \"\"\"\n",
        "    Implements a three-layer neural network: LINEAR->RELU->LINEAR->RELU->LINEAR->SIGMOID.\n",
        "    \n",
        "    Arguments:\n",
        "    X -- input data, of shape (2, number of examples)\n",
        "    Y -- true \"label\" vector (containing 0 for red dots; 1 for blue dots), of shape (1, number of examples)\n",
        "    learning_rate -- learning rate for gradient descent \n",
        "    num_iterations -- number of iterations to run gradient descent\n",
        "    print_cost -- if True, print the cost every 1000 iterations\n",
        "    initialization -- flag to choose which initialization to use (\"zeros\",\"random\" or \"he\")\n",
        "    \n",
        "    Returns:\n",
        "    parameters -- parameters learnt by the model\n",
        "    \"\"\"\n",
        "        \n",
        "    grads = {}\n",
        "    costs = [] # to keep track of the loss\n",
        "    m = X.shape[1] # number of examples\n",
        "    layers_dims = [X.shape[0], 10, 5, 1]\n",
        "    \n",
        "    # Initialize parameters dictionary.\n",
        "    if initialization == \"zeros\":\n",
        "        parameters = initialize_parameters_zeros(layers_dims)\n",
        "    elif initialization == \"random\":\n",
        "        parameters = initialize_parameters_random(layers_dims)\n",
        "    elif initialization == \"he\":\n",
        "        parameters = initialize_parameters_he(layers_dims)\n",
        "\n",
        "    # Loop (gradient descent)\n",
        "\n",
        "    for i in range(0, num_iterations):\n",
        "\n",
        "        # Forward propagation: LINEAR -> RELU -> LINEAR -> RELU -> LINEAR -> SIGMOID.\n",
        "        a3, cache = forward_propagation(X, parameters)\n",
        "        \n",
        "        # Loss\n",
        "        cost = compute_loss(a3, Y)\n",
        "\n",
        "        # Backward propagation.\n",
        "        grads = backward_propagation(X, Y, cache)\n",
        "        \n",
        "        # Update parameters.\n",
        "        parameters = update_parameters(parameters, grads, learning_rate)\n",
        "        \n",
        "        # Print the loss every 1000 iterations\n",
        "        if print_cost and i % 1000 == 0:\n",
        "            print(\"Cost after iteration {}: {}\".format(i, cost))\n",
        "            costs.append(cost)\n",
        "            \n",
        "    # plot the loss\n",
        "    plt.plot(costs)\n",
        "    plt.ylabel('cost')\n",
        "    plt.xlabel('iterations (per hundreds)')\n",
        "    plt.title(\"Learning rate =\" + str(learning_rate))\n",
        "    plt.show()\n",
        "    \n",
        "    return parameters\n"
      ],
      "execution_count": 0,
      "outputs": []
    },
    {
      "metadata": {
        "id": "G7gsQjwRokxb",
        "colab_type": "code",
        "colab": {}
      },
      "cell_type": "code",
      "source": [
        "def initialize_parameters_zeros(layers_dims):\n",
        "    \"\"\"\n",
        "    Arguments:\n",
        "    layer_dims -- python array (list) containing the size of each layer.\n",
        "    \n",
        "    Returns:\n",
        "    parameters -- python dictionary containing your parameters \"W1\", \"b1\", ..., \"WL\", \"bL\":\n",
        "                    W1 -- weight matrix of shape (layers_dims[1], layers_dims[0])\n",
        "                    b1 -- bias vector of shape (layers_dims[1], 1)\n",
        "                    ...\n",
        "                    WL -- weight matrix of shape (layers_dims[L], layers_dims[L-1])\n",
        "                    bL -- bias vector of shape (layers_dims[L], 1)\n",
        "    \"\"\"\n",
        "    \n",
        "    parameters = {}\n",
        "    L = len(layers_dims)            # number of layers in the network\n",
        "    \n",
        "    for l in range(1, L):\n",
        "        \n",
        "        parameters['W' + str(l)] = np.zeros((layers_dims[l],layers_dims[l-1]))\n",
        "        parameters['b' + str(l)] = np.zeros((layers_dims[l],1))\n",
        "        \n",
        "    return parameters\n"
      ],
      "execution_count": 0,
      "outputs": []
    },
    {
      "metadata": {
        "id": "gxge6n7Zou_7",
        "colab_type": "code",
        "colab": {
          "base_uri": "https://localhost:8080/",
          "height": 119
        },
        "outputId": "f8c06f44-0fe0-4f2f-ab8d-240967250df3"
      },
      "cell_type": "code",
      "source": [
        "parameters = initialize_parameters_zeros([3,2,1])\n",
        "print(\"W1 = \" + str(parameters[\"W1\"]))\n",
        "print(\"b1 = \" + str(parameters[\"b1\"]))\n",
        "print(\"W2 = \" + str(parameters[\"W2\"]))\n",
        "print(\"b2 = \" + str(parameters[\"b2\"]))"
      ],
      "execution_count": 37,
      "outputs": [
        {
          "output_type": "stream",
          "text": [
            "W1 = [[0. 0. 0.]\n",
            " [0. 0. 0.]]\n",
            "b1 = [[0.]\n",
            " [0.]]\n",
            "W2 = [[0. 0.]]\n",
            "b2 = [[0.]]\n"
          ],
          "name": "stdout"
        }
      ]
    },
    {
      "metadata": {
        "id": "X4m6UI_yo64K",
        "colab_type": "code",
        "colab": {
          "base_uri": "https://localhost:8080/",
          "height": 872
        },
        "outputId": "82a02737-8c44-4801-dd69-4e2348deb02b"
      },
      "cell_type": "code",
      "source": [
        "parameters = model(train_X, train_Y, initialization = \"zeros\")\n",
        "print (\"On the train set:\")\n",
        "predictions_train = predict(train_X, train_Y, parameters)\n",
        "print (\"On the test set:\")\n",
        "predictions_test = predict(test_X, test_Y, parameters)"
      ],
      "execution_count": 38,
      "outputs": [
        {
          "output_type": "stream",
          "text": [
            "Cost after iteration 0: 0.6931471805599453\n",
            "Cost after iteration 1000: 0.6931471805599453\n",
            "Cost after iteration 2000: 0.6931471805599453\n",
            "Cost after iteration 3000: 0.6931471805599453\n",
            "Cost after iteration 4000: 0.6931471805599453\n",
            "Cost after iteration 5000: 0.6931471805599453\n",
            "Cost after iteration 6000: 0.6931471805599453\n",
            "Cost after iteration 7000: 0.6931471805599453\n",
            "Cost after iteration 8000: 0.6931471805599453\n",
            "Cost after iteration 9000: 0.6931471805599453\n",
            "Cost after iteration 10000: 0.6931471805599455\n",
            "Cost after iteration 11000: 0.6931471805599453\n",
            "Cost after iteration 12000: 0.6931471805599453\n",
            "Cost after iteration 13000: 0.6931471805599453\n",
            "Cost after iteration 14000: 0.6931471805599453\n",
            "Cost after iteration 15000: 0.6931471805599453\n",
            "Cost after iteration 16000: 0.6931471805599455\n",
            "Cost after iteration 17000: 0.6931471805599453\n",
            "Cost after iteration 18000: 0.6931471805599453\n",
            "Cost after iteration 19000: 0.6931471805599453\n",
            "Cost after iteration 20000: 0.6931471805599453\n",
            "Cost after iteration 21000: 0.6931471805599453\n",
            "Cost after iteration 22000: 0.6931471805599455\n",
            "Cost after iteration 23000: 0.6931471805599453\n",
            "Cost after iteration 24000: 0.6931471805599453\n",
            "Cost after iteration 25000: 0.6931471805599453\n",
            "Cost after iteration 26000: 0.6931471805599453\n",
            "Cost after iteration 27000: 0.6931471805599453\n",
            "Cost after iteration 28000: 0.6931471805599455\n",
            "Cost after iteration 29000: 0.6931471805599453\n"
          ],
          "name": "stdout"
        },
        {
          "output_type": "display_data",
          "data": {
            "image/png": "[encoded data removed]",
            "text/plain": [
              "<matplotlib.figure.Figure at 0x7f680ef51240>"
            ]
          },
          "metadata": {
            "tags": []
          }
        },
        {
          "output_type": "stream",
          "text": [
            "On the train set:\n",
            "Accuracy: 0.5\n",
            "On the test set:\n",
            "Accuracy: 0.5\n"
          ],
          "name": "stdout"
        }
      ]
    },
    {
      "metadata": {
        "id": "3WTfjxzFpBkE",
        "colab_type": "code",
        "colab": {
          "base_uri": "https://localhost:8080/",
          "height": 221
        },
        "outputId": "0a522bfe-be16-4d6b-965e-798e1c0cedac"
      },
      "cell_type": "code",
      "source": [
        "print (\"predictions_train = \" + str(predictions_train))\n",
        "print (\"predictions_test = \" + str(predictions_test))"
      ],
      "execution_count": 39,
      "outputs": [
        {
          "output_type": "stream",
          "text": [
            "predictions_train = [[0 0 0 0 0 0 0 0 0 0 0 0 0 0 0 0 0 0 0 0 0 0 0 0 0 0 0 0 0 0 0 0 0 0 0 0\n",
            "  0 0 0 0 0 0 0 0 0 0 0 0 0 0 0 0 0 0 0 0 0 0 0 0 0 0 0 0 0 0 0 0 0 0 0 0\n",
            "  0 0 0 0 0 0 0 0 0 0 0 0 0 0 0 0 0 0 0 0 0 0 0 0 0 0 0 0 0 0 0 0 0 0 0 0\n",
            "  0 0 0 0 0 0 0 0 0 0 0 0 0 0 0 0 0 0 0 0 0 0 0 0 0 0 0 0 0 0 0 0 0 0 0 0\n",
            "  0 0 0 0 0 0 0 0 0 0 0 0 0 0 0 0 0 0 0 0 0 0 0 0 0 0 0 0 0 0 0 0 0 0 0 0\n",
            "  0 0 0 0 0 0 0 0 0 0 0 0 0 0 0 0 0 0 0 0 0 0 0 0 0 0 0 0 0 0 0 0 0 0 0 0\n",
            "  0 0 0 0 0 0 0 0 0 0 0 0 0 0 0 0 0 0 0 0 0 0 0 0 0 0 0 0 0 0 0 0 0 0 0 0\n",
            "  0 0 0 0 0 0 0 0 0 0 0 0 0 0 0 0 0 0 0 0 0 0 0 0 0 0 0 0 0 0 0 0 0 0 0 0\n",
            "  0 0 0 0 0 0 0 0 0 0 0 0]]\n",
            "predictions_test = [[0 0 0 0 0 0 0 0 0 0 0 0 0 0 0 0 0 0 0 0 0 0 0 0 0 0 0 0 0 0 0 0 0 0 0 0\n",
            "  0 0 0 0 0 0 0 0 0 0 0 0 0 0 0 0 0 0 0 0 0 0 0 0 0 0 0 0 0 0 0 0 0 0 0 0\n",
            "  0 0 0 0 0 0 0 0 0 0 0 0 0 0 0 0 0 0 0 0 0 0 0 0 0 0 0 0]]\n"
          ],
          "name": "stdout"
        }
      ]
    },
    {
      "metadata": {
        "id": "91wgHEoPpI_X",
        "colab_type": "code",
        "colab": {}
      },
      "cell_type": "code",
      "source": [
        "#plt.title(\"Model with Zeros initialization\")\n",
        "#axes = plt.gca()\n",
        "#axes.set_xlim([-1.5,1.5])\n",
        "#axes.set_ylim([-1.5,1.5])\n",
        "#plot_decision_boundary(lambda x: predict_dec(parameters, x.T), train_X, train_Y)\n",
        "#plt.scatter(X[:, 0], X[:, 1], s=40, c=T, cmap=plt.cm.Spectral)\n"
      ],
      "execution_count": 0,
      "outputs": []
    },
    {
      "metadata": {
        "id": "aVqubZsgpPmq",
        "colab_type": "code",
        "colab": {}
      },
      "cell_type": "code",
      "source": [
        "def initialize_parameters_random(layers_dims):\n",
        "    \"\"\"\n",
        "    Arguments:\n",
        "    layer_dims -- python array (list) containing the size of each layer.\n",
        "    \n",
        "    Returns:\n",
        "    parameters -- python dictionary containing your parameters \"W1\", \"b1\", ..., \"WL\", \"bL\":\n",
        "                    W1 -- weight matrix of shape (layers_dims[1], layers_dims[0])\n",
        "                    b1 -- bias vector of shape (layers_dims[1], 1)\n",
        "                    ...\n",
        "                    WL -- weight matrix of shape (layers_dims[L], layers_dims[L-1])\n",
        "                    bL -- bias vector of shape (layers_dims[L], 1)\n",
        "    \"\"\"\n",
        "    \n",
        "    np.random.seed(3)               # This seed makes sure your \"random\" numbers will be the as ours\n",
        "    parameters = {}\n",
        "    L = len(layers_dims)            # integer representing the number of layers\n",
        "    \n",
        "    for l in range(1, L):\n",
        "        \n",
        "        parameters['W' + str(l)] = np.random.randn(layers_dims[l],layers_dims[l-1])*10\n",
        "        parameters['b' + str(l)] = np.zeros((layers_dims[l],1))\n",
        "        \n",
        "\n",
        "    return parameters"
      ],
      "execution_count": 0,
      "outputs": []
    },
    {
      "metadata": {
        "id": "j7cREyPKsNuj",
        "colab_type": "code",
        "colab": {
          "base_uri": "https://localhost:8080/",
          "height": 119
        },
        "outputId": "e83a49ae-825a-4527-a580-f3ab7f29b813"
      },
      "cell_type": "code",
      "source": [
        "parameters = initialize_parameters_random([3, 2, 1])\n",
        "print(\"W1 = \" + str(parameters[\"W1\"]))\n",
        "print(\"b1 = \" + str(parameters[\"b1\"]))\n",
        "print(\"W2 = \" + str(parameters[\"W2\"]))\n",
        "print(\"b2 = \" + str(parameters[\"b2\"]))"
      ],
      "execution_count": 41,
      "outputs": [
        {
          "output_type": "stream",
          "text": [
            "W1 = [[ 17.88628473   4.36509851   0.96497468]\n",
            " [-18.63492703  -2.77388203  -3.54758979]]\n",
            "b1 = [[0.]\n",
            " [0.]]\n",
            "W2 = [[-0.82741481 -6.27000677]]\n",
            "b2 = [[0.]]\n"
          ],
          "name": "stdout"
        }
      ]
    },
    {
      "metadata": {
        "id": "vhb9tukOsTQl",
        "colab_type": "code",
        "colab": {
          "base_uri": "https://localhost:8080/",
          "height": 940
        },
        "outputId": "16675377-b7ac-4af1-f468-0fca1eb1ee82"
      },
      "cell_type": "code",
      "source": [
        "parameters = model(train_X, train_Y, initialization = \"random\")\n",
        "print (\"On the train set:\")\n",
        "predictions_train = predict(train_X, train_Y, parameters)\n",
        "print (\"On the test set:\")\n",
        "predictions_test = predict(test_X, test_Y, parameters)"
      ],
      "execution_count": 42,
      "outputs": [
        {
          "output_type": "stream",
          "text": [
            "/usr/local/lib/python3.6/dist-packages/ipykernel_launcher.py:16: RuntimeWarning: divide by zero encountered in log\n",
            "  app.launch_new_instance()\n",
            "/usr/local/lib/python3.6/dist-packages/ipykernel_launcher.py:16: RuntimeWarning: invalid value encountered in multiply\n",
            "  app.launch_new_instance()\n"
          ],
          "name": "stderr"
        },
        {
          "output_type": "stream",
          "text": [
            "Cost after iteration 0: inf\n",
            "Cost after iteration 1000: 0.6247924745506072\n",
            "Cost after iteration 2000: 0.5980258056061102\n",
            "Cost after iteration 3000: 0.5637539062842213\n",
            "Cost after iteration 4000: 0.5501256393526495\n",
            "Cost after iteration 5000: 0.5443826306793814\n",
            "Cost after iteration 6000: 0.5373895855049121\n",
            "Cost after iteration 7000: 0.47157999220550006\n",
            "Cost after iteration 8000: 0.39770475516243037\n",
            "Cost after iteration 9000: 0.3934560146692851\n",
            "Cost after iteration 10000: 0.3920227137490125\n",
            "Cost after iteration 11000: 0.38913700035966736\n",
            "Cost after iteration 12000: 0.3861358766546214\n",
            "Cost after iteration 13000: 0.38497629552893475\n",
            "Cost after iteration 14000: 0.38276694641706693\n",
            "Cost after iteration 15000: 0.38105053248956466\n",
            "Cost after iteration 16000: 0.3799490392460345\n",
            "Cost after iteration 17000: 0.37912933245750763\n",
            "Cost after iteration 18000: 0.37446376042642815\n",
            "Cost after iteration 19000: 0.371619817460682\n",
            "Cost after iteration 20000: 0.36967732765298966\n",
            "Cost after iteration 21000: 0.3630311607367288\n",
            "Cost after iteration 22000: 0.3577474056696152\n",
            "Cost after iteration 23000: 0.35535853789078925\n",
            "Cost after iteration 24000: 0.35396171772377055\n",
            "Cost after iteration 25000: 0.3530157873456813\n",
            "Cost after iteration 26000: 0.3523809777045673\n",
            "Cost after iteration 27000: 0.35196829829403226\n",
            "Cost after iteration 28000: 0.3516478821464336\n",
            "Cost after iteration 29000: 0.35139657535109703\n"
          ],
          "name": "stdout"
        },
        {
          "output_type": "display_data",
          "data": {
            "image/png": "[encoded data removed]",
            "text/plain": [
              "<matplotlib.figure.Figure at 0x7f680efa9550>"
            ]
          },
          "metadata": {
            "tags": []
          }
        },
        {
          "output_type": "stream",
          "text": [
            "On the train set:\n",
            "Accuracy: 0.85\n",
            "On the test set:\n",
            "Accuracy: 0.84\n"
          ],
          "name": "stdout"
        }
      ]
    },
    {
      "metadata": {
        "id": "5wwd1erVsYo4",
        "colab_type": "code",
        "colab": {
          "base_uri": "https://localhost:8080/",
          "height": 221
        },
        "outputId": "135790da-342d-45f7-f268-fa6d8232e100"
      },
      "cell_type": "code",
      "source": [
        "print (predictions_train)\n",
        "print (predictions_test)"
      ],
      "execution_count": 43,
      "outputs": [
        {
          "output_type": "stream",
          "text": [
            "[[1 0 1 1 0 0 1 1 1 1 1 0 1 0 0 1 0 1 1 0 0 0 1 0 1 0 1 1 1 1 0 1 1 0 0 1\n",
            "  1 1 1 1 1 1 1 0 1 1 1 1 0 1 0 1 1 1 1 0 0 1 1 1 1 1 1 1 0 1 0 1 1 1 1 0\n",
            "  0 0 0 0 1 0 1 0 1 1 1 0 0 1 1 1 1 1 1 0 0 1 1 1 0 1 1 0 1 0 1 1 0 1 1 0\n",
            "  1 0 1 1 0 0 1 0 0 1 1 0 1 1 1 0 1 0 0 1 0 1 1 1 1 1 1 1 0 1 1 0 0 1 1 0\n",
            "  0 0 1 0 1 0 1 0 1 1 1 0 0 1 1 1 1 0 1 1 0 1 0 1 1 0 1 0 1 1 1 1 0 1 1 1\n",
            "  1 0 1 0 1 0 1 1 1 1 0 1 1 0 1 1 0 1 1 0 1 0 1 1 1 0 1 1 1 0 1 0 1 0 0 1\n",
            "  0 1 1 0 1 1 1 1 1 0 1 1 1 1 1 1 0 1 0 1 0 0 1 1 0 1 1 1 0 0 0 1 1 0 1 1\n",
            "  1 1 0 1 1 0 1 1 0 0 0 1 0 0 0 1 0 0 0 1 1 1 1 0 0 0 0 1 1 1 1 0 1 1 1 1\n",
            "  1 1 1 1 0 0 0 1 1 1 1 1]]\n",
            "[[1 1 1 1 0 1 0 1 1 0 1 1 1 0 0 0 1 1 0 1 0 0 1 0 1 0 1 1 1 1 1 0 1 0 0 1\n",
            "  0 1 1 0 0 1 1 1 1 1 0 1 1 1 0 1 0 1 1 0 1 0 1 0 1 1 1 1 1 1 1 1 1 0 1 0\n",
            "  1 1 1 1 1 0 1 0 0 1 0 0 0 1 1 0 1 1 0 0 0 1 1 0 1 1 0 0]]\n"
          ],
          "name": "stdout"
        }
      ]
    },
    {
      "metadata": {
        "id": "1MoJ6cabs1_U",
        "colab_type": "code",
        "colab": {}
      },
      "cell_type": "code",
      "source": [
        "#plt.title(\"Model with large random initialization\")\n",
        "#axes = plt.gca()\n",
        "#axes.set_xlim([-1.5,1.5])\n",
        "#axes.set_ylim([-1.5,1.5])\n",
        "#plot_decision_boundary(lambda x: predict_dec(parameters, x.T), train_X, train_Y)"
      ],
      "execution_count": 0,
      "outputs": []
    },
    {
      "metadata": {
        "id": "LiuekNHotBDg",
        "colab_type": "code",
        "colab": {}
      },
      "cell_type": "code",
      "source": [
        "def initialize_parameters_he(layers_dims):\n",
        "    \"\"\"\n",
        "    Arguments:\n",
        "    layer_dims -- python array (list) containing the size of each layer.\n",
        "    \n",
        "    Returns:\n",
        "    parameters -- python dictionary containing your parameters \"W1\", \"b1\", ..., \"WL\", \"bL\":\n",
        "                    W1 -- weight matrix of shape (layers_dims[1], layers_dims[0])\n",
        "                    b1 -- bias vector of shape (layers_dims[1], 1)\n",
        "                    ...\n",
        "                    WL -- weight matrix of shape (layers_dims[L], layers_dims[L-1])\n",
        "                    bL -- bias vector of shape (layers_dims[L], 1)\n",
        "    \"\"\"\n",
        "    \n",
        "    np.random.seed(3)\n",
        "    parameters = {}\n",
        "    L = len(layers_dims) - 1 # integer representing the number of layers\n",
        "     \n",
        "    for l in range(1, L + 1):\n",
        "        \n",
        "        parameters['W' + str(l)] = np.random.randn(layers_dims[l],layers_dims[l-1])*np.sqrt(2/layers_dims[l-1])\n",
        "        parameters['b' + str(l)] = np.zeros((layers_dims[l],1))\n",
        "        \n",
        "        \n",
        "    return parameters"
      ],
      "execution_count": 0,
      "outputs": []
    },
    {
      "metadata": {
        "id": "7hCZ6Kw4tpZG",
        "colab_type": "code",
        "colab": {
          "base_uri": "https://localhost:8080/",
          "height": 187
        },
        "outputId": "d882518f-840c-4e19-c8c1-4583078ab12b"
      },
      "cell_type": "code",
      "source": [
        "parameters = initialize_parameters_he([2, 4, 1])\n",
        "print(\"W1 = \" + str(parameters[\"W1\"]))\n",
        "print(\"b1 = \" + str(parameters[\"b1\"]))\n",
        "print(\"W2 = \" + str(parameters[\"W2\"]))\n",
        "print(\"b2 = \" + str(parameters[\"b2\"]))"
      ],
      "execution_count": 47,
      "outputs": [
        {
          "output_type": "stream",
          "text": [
            "W1 = [[ 1.78862847  0.43650985]\n",
            " [ 0.09649747 -1.8634927 ]\n",
            " [-0.2773882  -0.35475898]\n",
            " [-0.08274148 -0.62700068]]\n",
            "b1 = [[0.]\n",
            " [0.]\n",
            " [0.]\n",
            " [0.]]\n",
            "W2 = [[-0.03098412 -0.33744411 -0.92904268  0.62552248]]\n",
            "b2 = [[0.]]\n"
          ],
          "name": "stdout"
        }
      ]
    },
    {
      "metadata": {
        "id": "R5kvp1oktt_s",
        "colab_type": "code",
        "colab": {
          "base_uri": "https://localhost:8080/",
          "height": 872
        },
        "outputId": "588c55a0-62b9-4310-fd2d-356e3a2d211d"
      },
      "cell_type": "code",
      "source": [
        "parameters = model(train_X, train_Y, initialization = \"he\")\n",
        "print (\"On the train set:\")\n",
        "predictions_train = predict(train_X, train_Y, parameters)\n",
        "print (\"On the test set:\")\n",
        "predictions_test = predict(test_X, test_Y, parameters)"
      ],
      "execution_count": 48,
      "outputs": [
        {
          "output_type": "stream",
          "text": [
            "Cost after iteration 0: 0.8830537463419761\n",
            "Cost after iteration 1000: 0.6879825919728063\n",
            "Cost after iteration 2000: 0.6751286264523371\n",
            "Cost after iteration 3000: 0.6526117768893805\n",
            "Cost after iteration 4000: 0.6082958970572938\n",
            "Cost after iteration 5000: 0.5304944491717495\n",
            "Cost after iteration 6000: 0.4138645817071794\n",
            "Cost after iteration 7000: 0.3117803464844441\n",
            "Cost after iteration 8000: 0.23696215330322562\n",
            "Cost after iteration 9000: 0.1859728720920684\n",
            "Cost after iteration 10000: 0.15015556280371808\n",
            "Cost after iteration 11000: 0.12325079292273551\n",
            "Cost after iteration 12000: 0.09917746546525937\n",
            "Cost after iteration 13000: 0.08457055954024283\n",
            "Cost after iteration 14000: 0.07357895962677366\n",
            "Cost after iteration 15000: 0.06481018741251149\n",
            "Cost after iteration 16000: 0.057499933022302545\n",
            "Cost after iteration 17000: 0.05193920333459785\n",
            "Cost after iteration 18000: 0.04743514438939104\n",
            "Cost after iteration 19000: 0.04365730226129789\n",
            "Cost after iteration 20000: 0.04021926106254285\n",
            "Cost after iteration 21000: 0.03589621301166325\n",
            "Cost after iteration 22000: 0.03302741192159168\n",
            "Cost after iteration 23000: 0.030898260658900396\n",
            "Cost after iteration 24000: 0.029111460479265286\n",
            "Cost after iteration 25000: 0.027579120292478002\n",
            "Cost after iteration 26000: 0.026246663878183217\n",
            "Cost after iteration 27000: 0.02507797292390439\n",
            "Cost after iteration 28000: 0.02404267615918573\n",
            "Cost after iteration 29000: 0.023119531689312776\n"
          ],
          "name": "stdout"
        },
        {
          "output_type": "display_data",
          "data": {
            "image/png": "[encoded data removed]",
            "text/plain": [
              "<matplotlib.figure.Figure at 0x7f680ee72f98>"
            ]
          },
          "metadata": {
            "tags": []
          }
        },
        {
          "output_type": "stream",
          "text": [
            "On the train set:\n",
            "Accuracy: 0.9966666666666667\n",
            "On the test set:\n",
            "Accuracy: 0.96\n"
          ],
          "name": "stdout"
        }
      ]
    },
    {
      "metadata": {
        "id": "ryyqsG2VuKNP",
        "colab_type": "text"
      },
      "cell_type": "markdown",
      "source": [
        "- Different initializations lead to different results\n",
        "- Random initialization is used to break symmetry and make sure different hidden units can learn different things\n",
        "- Don't intialize to values that are too large\n",
        "- He initialization works well for networks with ReLU activations. "
      ]
    },
    {
      "metadata": {
        "id": "GunmZf33t2fp",
        "colab_type": "code",
        "colab": {}
      },
      "cell_type": "code",
      "source": [
        ""
      ],
      "execution_count": 0,
      "outputs": []
    }
  ]
}